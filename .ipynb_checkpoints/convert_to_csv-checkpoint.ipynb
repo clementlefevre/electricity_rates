{
 "cells": [
  {
   "cell_type": "code",
   "execution_count": 1,
   "metadata": {},
   "outputs": [
    {
     "name": "stderr",
     "output_type": "stream",
     "text": [
      "/home/ramon/anaconda2/lib/python2.7/site-packages/ggplot/utils.py:81: FutureWarning: pandas.tslib is deprecated and will be removed in a future version.\n",
      "You can access Timestamp as pandas.Timestamp\n",
      "  pd.tslib.Timestamp,\n",
      "/home/ramon/anaconda2/lib/python2.7/site-packages/ggplot/stats/smoothers.py:4: FutureWarning: The pandas.lib module is deprecated and will be removed in a future version. These are private functions and can be accessed from pandas._libs.lib instead\n",
      "  from pandas.lib import Timestamp\n",
      "/home/ramon/anaconda2/lib/python2.7/site-packages/statsmodels/compat/pandas.py:56: FutureWarning: The pandas.core.datetools module is deprecated and will be removed in a future version. Please use the pandas.tseries module instead.\n",
      "  from pandas.core import datetools\n",
      "/home/ramon/anaconda2/lib/python2.7/site-packages/sklearn/cross_validation.py:44: DeprecationWarning: This module was deprecated in version 0.18 in favor of the model_selection module into which all the refactored classes and functions are moved. Also note that the interface of the new CV iterators are different from that of this module. This module will be removed in 0.20.\n",
      "  \"This module will be removed in 0.20.\", DeprecationWarning)\n"
     ]
    }
   ],
   "source": [
    "%matplotlib inline\n",
    "import numpy as np\n",
    "import pandas as pd\n",
    "import matplotlib.pyplot as plt\n",
    "from ggplot import *\n",
    "from sklearn.ensemble import RandomForestRegressor\n",
    "from sklearn.model_selection import train_test_split\n",
    "from sklearn.metrics import r2_score,mean_squared_error\n",
    "from xgboost import XGBRegressor\n",
    "import seaborn as sns"
   ]
  },
  {
   "cell_type": "code",
   "execution_count": 2,
   "metadata": {
    "collapsed": true
   },
   "outputs": [],
   "source": [
    "#df = pd.read_stata('data/admin_survey_combined.dta',convert_categoricals=False)\n",
    "\n",
    "#df.to_csv('data/admin_survey_combined.csv', index=None)"
   ]
  },
  {
   "cell_type": "code",
   "execution_count": 3,
   "metadata": {},
   "outputs": [],
   "source": [
    "df = pd.read_csv('data/admin_survey_combined.csv')\n",
    "df = df.select_dtypes(exclude=['object'])"
   ]
  },
  {
   "cell_type": "code",
   "execution_count": 4,
   "metadata": {
    "collapsed": true
   },
   "outputs": [],
   "source": [
    "TARGET_1_P_NP = ['est_p_rev_b0',\n",
    " 'est_p_rev_b1',\n",
    " 'est_p_rev_b2',\n",
    " 'est_p_rev_b3',\n",
    " 'est_p_rev_b0_DAC','est_np_rev_b0',\n",
    " 'est_np_rev_b1',\n",
    " 'est_np_rev_b2',\n",
    " 'est_np_rev_b3',\n",
    " 'est_np_rev_b0_DAC']"
   ]
  },
  {
   "cell_type": "code",
   "execution_count": 5,
   "metadata": {
    "collapsed": true
   },
   "outputs": [],
   "source": [
    "TARGET_2_COMBINED = ['est_REVENUE_b0',\n",
    " 'est_REVENUE_b1',\n",
    " 'est_REVENUE_b2',\n",
    " 'est_REVENUE_b3',\n",
    " 'est_REVENUE_b0_DAC',]"
   ]
  },
  {
   "cell_type": "code",
   "execution_count": 6,
   "metadata": {
    "collapsed": true
   },
   "outputs": [],
   "source": [
    "FEATURES = list(set(df.columns.tolist())-set(TARGET_1_P_NP)-set(TARGET_2_COMBINED))"
   ]
  },
  {
   "cell_type": "code",
   "execution_count": 7,
   "metadata": {},
   "outputs": [],
   "source": [
    "EXCLUDE =['admin_revenue', 'est_REVENUE_nonpoor', 'est_REVENUE_poor', 'est_REVENUE_total']\n",
    "STATS_PARAM = [col for col in FEATURES if  any(stop in col for stop in ['cv','std']) ]\n",
    "FINAL_FEATURES = list(set(FEATURES)-set(EXCLUDE)-set(STATS_PARAM))"
   ]
  },
  {
   "cell_type": "code",
   "execution_count": 41,
   "metadata": {},
   "outputs": [],
   "source": [
    "def predict(df,FEATURES,TARGETS):\n",
    "    clf = RandomForestRegressor()\n",
    "\n",
    "    X = df[FEATURES]\n",
    "    y = df[TARGETS]\n",
    "\n",
    "    X_train, X_test, y_train, y_test = train_test_split(X, y, test_size=0.95, random_state=42)\n",
    "\n",
    "    clf.fit(X_train,y_train)\n",
    "\n",
    "    prediction = clf.predict(X_test.values)\n",
    "    print r2_score(y_test.values,prediction)\n",
    "    print mean_squared_error(y_test.values,prediction)\n",
    "    return clf,prediction"
   ]
  },
  {
   "cell_type": "code",
   "execution_count": 9,
   "metadata": {},
   "outputs": [
    {
     "name": "stdout",
     "output_type": "stream",
     "text": [
      "<class 'pandas.core.frame.DataFrame'>\n",
      "RangeIndex: 113958 entries, 0 to 113957\n",
      "Columns: 120 entries, munid to est_averageprice\n",
      "dtypes: float64(116), int64(4)\n",
      "memory usage: 104.3 MB\n"
     ]
    }
   ],
   "source": [
    "df.info()"
   ]
  },
  {
   "cell_type": "code",
   "execution_count": 47,
   "metadata": {
    "scrolled": true
   },
   "outputs": [
    {
     "data": {
      "text/html": [
       "<div>\n",
       "<style>\n",
       "    .dataframe thead tr:only-child th {\n",
       "        text-align: right;\n",
       "    }\n",
       "\n",
       "    .dataframe thead th {\n",
       "        text-align: left;\n",
       "    }\n",
       "\n",
       "    .dataframe tbody tr th {\n",
       "        vertical-align: top;\n",
       "    }\n",
       "</style>\n",
       "<table border=\"1\" class=\"dataframe\">\n",
       "  <thead>\n",
       "    <tr style=\"text-align: right;\">\n",
       "      <th></th>\n",
       "      <th>nan values</th>\n",
       "    </tr>\n",
       "  </thead>\n",
       "  <tbody>\n",
       "  </tbody>\n",
       "</table>\n",
       "</div>"
      ],
      "text/plain": [
       "Empty DataFrame\n",
       "Columns: [nan values]\n",
       "Index: []"
      ]
     },
     "execution_count": 47,
     "metadata": {},
     "output_type": "execute_result"
    }
   ],
   "source": [
    "df_no_null = df[~df.coneval_pobreza_e.isnull()]\n",
    "df_no_null = df_no_null[~df_no_null.est_avprice_p.isnull()]\n",
    "df_no_null = df_no_null[~df_no_null.admin_avconsumption.isnull()]\n",
    "df_no_null = df_no_null[~df_no_null.admin_fixedcharge.isnull()]\n",
    "\n",
    "df_no_null = df_no_null[~df_no_null.est_avprice_np.isnull()]\n",
    "\n",
    "df_no_null = df_no_null.fillna(0)\n",
    "\n",
    "missing_data = pd.DataFrame(df_no_null[FINAL_FEATURES].isnull().sum().sort_values(ascending=False),columns=['nan values'])\n",
    "missing_data[missing_data['nan values']>0]"
   ]
  },
  {
   "cell_type": "code",
   "execution_count": 30,
   "metadata": {},
   "outputs": [
    {
     "name": "stdout",
     "output_type": "stream",
     "text": [
      "<class 'pandas.core.frame.DataFrame'>\n",
      "RangeIndex: 113958 entries, 0 to 113957\n",
      "Columns: 120 entries, munid to est_averageprice\n",
      "dtypes: float64(116), int64(4)\n",
      "memory usage: 104.3 MB\n"
     ]
    }
   ],
   "source": [
    "df.info()"
   ]
  },
  {
   "cell_type": "code",
   "execution_count": 48,
   "metadata": {},
   "outputs": [
    {
     "name": "stdout",
     "output_type": "stream",
     "text": [
      "<class 'pandas.core.frame.DataFrame'>\n",
      "Int64Index: 67252 entries, 2213 to 113956\n",
      "Columns: 120 entries, munid to est_averageprice\n",
      "dtypes: float64(116), int64(4)\n",
      "memory usage: 62.1 MB\n"
     ]
    }
   ],
   "source": [
    "df_no_null.info()"
   ]
  },
  {
   "cell_type": "code",
   "execution_count": 42,
   "metadata": {},
   "outputs": [
    {
     "name": "stdout",
     "output_type": "stream",
     "text": [
      "0.897036654681\n",
      "203710362117.0\n"
     ]
    },
    {
     "name": "stderr",
     "output_type": "stream",
     "text": [
      "/home/ramon/anaconda2/lib/python2.7/site-packages/sklearn/metrics/regression.py:482: DeprecationWarning: Default 'multioutput' behavior now corresponds to 'variance_weighted' value which is deprecated since 0.17, it will be changed to 'uniform_average' starting from 0.19.\n",
      "  DeprecationWarning)\n"
     ]
    }
   ],
   "source": [
    "clf,prediction = predict(df_no_null,FINAL_FEATURES,TARGET_2_COMBINED)"
   ]
  },
  {
   "cell_type": "code",
   "execution_count": 43,
   "metadata": {},
   "outputs": [],
   "source": [
    "df_prediction = pd.DataFrame(prediction,columns=[TARGET_2_COMBINED])"
   ]
  },
  {
   "cell_type": "code",
   "execution_count": 44,
   "metadata": {},
   "outputs": [
    {
     "data": {
      "text/html": [
       "<div>\n",
       "<style>\n",
       "    .dataframe thead tr:only-child th {\n",
       "        text-align: right;\n",
       "    }\n",
       "\n",
       "    .dataframe thead th {\n",
       "        text-align: left;\n",
       "    }\n",
       "\n",
       "    .dataframe tbody tr th {\n",
       "        vertical-align: top;\n",
       "    }\n",
       "</style>\n",
       "<table border=\"1\" class=\"dataframe\">\n",
       "  <thead>\n",
       "    <tr style=\"text-align: right;\">\n",
       "      <th></th>\n",
       "      <th>est_REVENUE_b0</th>\n",
       "      <th>est_REVENUE_b1</th>\n",
       "      <th>est_REVENUE_b2</th>\n",
       "      <th>est_REVENUE_b3</th>\n",
       "      <th>est_REVENUE_b0_DAC</th>\n",
       "    </tr>\n",
       "  </thead>\n",
       "  <tbody>\n",
       "    <tr>\n",
       "      <th>0</th>\n",
       "      <td>0.000000e+00</td>\n",
       "      <td>0.000000</td>\n",
       "      <td>0.000000</td>\n",
       "      <td>0.0</td>\n",
       "      <td>140331.973438</td>\n",
       "    </tr>\n",
       "    <tr>\n",
       "      <th>1</th>\n",
       "      <td>1.875619e+04</td>\n",
       "      <td>13823.688379</td>\n",
       "      <td>4847.533252</td>\n",
       "      <td>0.0</td>\n",
       "      <td>0.000000</td>\n",
       "    </tr>\n",
       "    <tr>\n",
       "      <th>2</th>\n",
       "      <td>3.084751e+04</td>\n",
       "      <td>39357.349609</td>\n",
       "      <td>40568.519336</td>\n",
       "      <td>0.0</td>\n",
       "      <td>0.000000</td>\n",
       "    </tr>\n",
       "    <tr>\n",
       "      <th>3</th>\n",
       "      <td>1.712868e+05</td>\n",
       "      <td>127072.440625</td>\n",
       "      <td>46597.743750</td>\n",
       "      <td>0.0</td>\n",
       "      <td>0.000000</td>\n",
       "    </tr>\n",
       "    <tr>\n",
       "      <th>4</th>\n",
       "      <td>1.009416e+06</td>\n",
       "      <td>745638.450000</td>\n",
       "      <td>263410.021875</td>\n",
       "      <td>0.0</td>\n",
       "      <td>0.000000</td>\n",
       "    </tr>\n",
       "  </tbody>\n",
       "</table>\n",
       "</div>"
      ],
      "text/plain": [
       "   est_REVENUE_b0  est_REVENUE_b1  est_REVENUE_b2  est_REVENUE_b3  \\\n",
       "0    0.000000e+00        0.000000        0.000000             0.0   \n",
       "1    1.875619e+04    13823.688379     4847.533252             0.0   \n",
       "2    3.084751e+04    39357.349609    40568.519336             0.0   \n",
       "3    1.712868e+05   127072.440625    46597.743750             0.0   \n",
       "4    1.009416e+06   745638.450000   263410.021875             0.0   \n",
       "\n",
       "   est_REVENUE_b0_DAC  \n",
       "0       140331.973438  \n",
       "1            0.000000  \n",
       "2            0.000000  \n",
       "3            0.000000  \n",
       "4            0.000000  "
      ]
     },
     "execution_count": 44,
     "metadata": {},
     "output_type": "execute_result"
    }
   ],
   "source": [
    "df_prediction.head()"
   ]
  },
  {
   "cell_type": "code",
   "execution_count": 46,
   "metadata": {},
   "outputs": [
    {
     "name": "stdout",
     "output_type": "stream",
     "text": [
      "Feature ranking:\n",
      "1. feature 8 (0.501169)\n",
      "2. feature 25 (0.165817)\n",
      "3. feature 64 (0.069434)\n",
      "4. feature 29 (0.033611)\n",
      "5. feature 46 (0.028517)\n",
      "6. feature 14 (0.017480)\n",
      "7. feature 20 (0.017030)\n",
      "8. feature 68 (0.016407)\n",
      "9. feature 4 (0.015843)\n",
      "10. feature 6 (0.015029)\n",
      "11. feature 47 (0.013688)\n",
      "12. feature 49 (0.013474)\n",
      "13. feature 2 (0.013072)\n",
      "14. feature 76 (0.009019)\n",
      "15. feature 18 (0.007393)\n",
      "16. feature 67 (0.006558)\n",
      "17. feature 71 (0.006056)\n",
      "18. feature 65 (0.005132)\n",
      "19. feature 22 (0.004976)\n",
      "20. feature 79 (0.003265)\n",
      "21. feature 24 (0.003190)\n",
      "22. feature 40 (0.002900)\n",
      "23. feature 63 (0.002609)\n",
      "24. feature 55 (0.002590)\n",
      "25. feature 17 (0.002370)\n",
      "26. feature 52 (0.002297)\n",
      "27. feature 59 (0.002274)\n",
      "28. feature 37 (0.002122)\n",
      "29. feature 51 (0.001856)\n",
      "30. feature 81 (0.001498)\n",
      "31. feature 69 (0.001011)\n",
      "32. feature 44 (0.000833)\n",
      "33. feature 30 (0.000757)\n",
      "34. feature 57 (0.000722)\n",
      "35. feature 32 (0.000633)\n",
      "36. feature 62 (0.000605)\n",
      "37. feature 54 (0.000603)\n",
      "38. feature 34 (0.000585)\n",
      "39. feature 33 (0.000575)\n",
      "40. feature 48 (0.000560)\n",
      "41. feature 73 (0.000527)\n",
      "42. feature 13 (0.000489)\n",
      "43. feature 70 (0.000487)\n",
      "44. feature 16 (0.000403)\n",
      "45. feature 12 (0.000390)\n",
      "46. feature 39 (0.000383)\n",
      "47. feature 36 (0.000342)\n",
      "48. feature 61 (0.000328)\n",
      "49. feature 5 (0.000302)\n",
      "50. feature 43 (0.000265)\n",
      "51. feature 21 (0.000251)\n",
      "52. feature 72 (0.000248)\n",
      "53. feature 27 (0.000229)\n",
      "54. feature 23 (0.000203)\n",
      "55. feature 10 (0.000201)\n",
      "56. feature 9 (0.000190)\n",
      "57. feature 75 (0.000165)\n",
      "58. feature 50 (0.000141)\n",
      "59. feature 35 (0.000125)\n",
      "60. feature 28 (0.000119)\n",
      "61. feature 42 (0.000109)\n",
      "62. feature 77 (0.000108)\n",
      "63. feature 41 (0.000098)\n",
      "64. feature 7 (0.000091)\n",
      "65. feature 80 (0.000064)\n",
      "66. feature 74 (0.000053)\n",
      "67. feature 31 (0.000037)\n",
      "68. feature 3 (0.000031)\n",
      "69. feature 58 (0.000026)\n",
      "70. feature 56 (0.000011)\n",
      "71. feature 38 (0.000007)\n",
      "72. feature 53 (0.000005)\n",
      "73. feature 15 (0.000003)\n",
      "74. feature 19 (0.000003)\n",
      "75. feature 60 (0.000002)\n",
      "76. feature 45 (0.000002)\n",
      "77. feature 66 (0.000002)\n",
      "78. feature 11 (0.000001)\n",
      "79. feature 78 (0.000000)\n",
      "80. feature 1 (0.000000)\n",
      "81. feature 83 (0.000000)\n",
      "82. feature 26 (0.000000)\n",
      "83. feature 82 (0.000000)\n",
      "84. feature 0 (0.000000)\n"
     ]
    },
    {
     "ename": "IndexError",
     "evalue": "index 84 is out of bounds for axis 0 with size 84",
     "output_type": "error",
     "traceback": [
      "\u001b[0;31m---------------------------------------------------------------------------\u001b[0m",
      "\u001b[0;31mIndexError\u001b[0m                                Traceback (most recent call last)",
      "\u001b[0;32m<ipython-input-46-692eac952495>\u001b[0m in \u001b[0;36m<module>\u001b[0;34m()\u001b[0m\n\u001b[1;32m      9\u001b[0m \u001b[0;34m\u001b[0m\u001b[0m\n\u001b[1;32m     10\u001b[0m \u001b[0;32mfor\u001b[0m \u001b[0mf\u001b[0m \u001b[0;32min\u001b[0m \u001b[0mrange\u001b[0m\u001b[0;34m(\u001b[0m\u001b[0mdf_no_null\u001b[0m\u001b[0;34m[\u001b[0m\u001b[0mFEATURES\u001b[0m\u001b[0;34m]\u001b[0m\u001b[0;34m.\u001b[0m\u001b[0mshape\u001b[0m\u001b[0;34m[\u001b[0m\u001b[0;36m1\u001b[0m\u001b[0;34m]\u001b[0m\u001b[0;34m)\u001b[0m\u001b[0;34m:\u001b[0m\u001b[0;34m\u001b[0m\u001b[0m\n\u001b[0;32m---> 11\u001b[0;31m     \u001b[0;32mprint\u001b[0m\u001b[0;34m(\u001b[0m\u001b[0;34m\"%d. feature %d (%f)\"\u001b[0m \u001b[0;34m%\u001b[0m \u001b[0;34m(\u001b[0m\u001b[0mf\u001b[0m \u001b[0;34m+\u001b[0m \u001b[0;36m1\u001b[0m\u001b[0;34m,\u001b[0m \u001b[0mindices\u001b[0m\u001b[0;34m[\u001b[0m\u001b[0mf\u001b[0m\u001b[0;34m]\u001b[0m\u001b[0;34m,\u001b[0m \u001b[0mimportances\u001b[0m\u001b[0;34m[\u001b[0m\u001b[0mindices\u001b[0m\u001b[0;34m[\u001b[0m\u001b[0mf\u001b[0m\u001b[0;34m]\u001b[0m\u001b[0;34m]\u001b[0m\u001b[0;34m)\u001b[0m\u001b[0;34m)\u001b[0m\u001b[0;34m\u001b[0m\u001b[0m\n\u001b[0m\u001b[1;32m     12\u001b[0m \u001b[0;34m\u001b[0m\u001b[0m\n\u001b[1;32m     13\u001b[0m \u001b[0;31m# Plot the feature importances of the forest\u001b[0m\u001b[0;34m\u001b[0m\u001b[0;34m\u001b[0m\u001b[0m\n",
      "\u001b[0;31mIndexError\u001b[0m: index 84 is out of bounds for axis 0 with size 84"
     ]
    }
   ],
   "source": [
    "importances = clf.feature_importances_\n",
    "\n",
    "std = np.std([tree.feature_importances_ for tree in clf.estimators_],\n",
    "             axis=0)\n",
    "indices = np.argsort(importances)[::-1]\n",
    "\n",
    "# Print the feature ranking\n",
    "print(\"Feature ranking:\")\n",
    "\n",
    "for f in range(df_no_null[FEATURES].shape[1]):\n",
    "    print(\"%d. feature %d (%f)\" % (f + 1, indices[f], importances[indices[f]]))\n",
    "\n",
    "# Plot the feature importances of the forest\n",
    "plt.figure()\n",
    "plt.title(\"Feature importances\")\n",
    "plt.bar(range(X.shape[1]), importances[indices],\n",
    "       color=\"r\", yerr=std[indices], align=\"center\")\n",
    "plt.xticks(range(X.shape[1]), FEATURES)\n",
    "plt.xlim([-1, X.shape[1]])\n",
    "plt.xticks(rotation=90)"
   ]
  },
  {
   "cell_type": "code",
   "execution_count": null,
   "metadata": {},
   "outputs": [],
   "source": [
    "df_clean.corr()[TARGETS]"
   ]
  },
  {
   "cell_type": "code",
   "execution_count": null,
   "metadata": {},
   "outputs": [],
   "source": [
    "# Compute the correlation matrix\n",
    "corr = df_clean.corr()\n",
    "\n",
    "# Generate a mask for the upper triangle\n",
    "mask = np.zeros_like(corr, dtype=np.bool)\n",
    "mask[np.triu_indices_from(mask)] = True\n",
    "\n",
    "# Set up the matplotlib figure\n",
    "f, ax = plt.subplots(figsize=(11, 9))\n",
    "\n",
    "# Generate a custom diverging colormap\n",
    "cmap = sns.diverging_palette(220, 10, as_cmap=True)\n",
    "\n",
    "# Draw the heatmap with the mask and correct aspect ratio\n",
    "sns.heatmap(corr, mask=mask, cmap=cmap, vmax=.3, center=0,\n",
    "            square=True, linewidths=.5, cbar_kws={\"shrink\": .5}).set_title(\"Correlation Matrix\")"
   ]
  },
  {
   "cell_type": "code",
   "execution_count": null,
   "metadata": {},
   "outputs": [],
   "source": [
    "ggplot(df_clean,aes(x='b0',y='xb0'))+ geom_jitter(position = 'jitter', stat = 'identity')"
   ]
  },
  {
   "cell_type": "code",
   "execution_count": null,
   "metadata": {},
   "outputs": [],
   "source": [
    "ggplot(df_clean,aes(x='b1',y='xb1'))+ geom_jitter(position = 'jitter', stat = 'identity')"
   ]
  },
  {
   "cell_type": "code",
   "execution_count": null,
   "metadata": {
    "collapsed": true
   },
   "outputs": [],
   "source": [
    "#sns.pairplot(df_clean[b_i+p_i+xb_i+['tarifa']], hue=\"tarifa\")"
   ]
  },
  {
   "cell_type": "code",
   "execution_count": null,
   "metadata": {
    "collapsed": true
   },
   "outputs": [],
   "source": []
  }
 ],
 "metadata": {
  "anaconda-cloud": {},
  "kernelspec": {
   "display_name": "Python [default]",
   "language": "python",
   "name": "python2"
  },
  "language_info": {
   "codemirror_mode": {
    "name": "ipython",
    "version": 2
   },
   "file_extension": ".py",
   "mimetype": "text/x-python",
   "name": "python",
   "nbconvert_exporter": "python",
   "pygments_lexer": "ipython2",
   "version": "2.7.12"
  }
 },
 "nbformat": 4,
 "nbformat_minor": 2
}
