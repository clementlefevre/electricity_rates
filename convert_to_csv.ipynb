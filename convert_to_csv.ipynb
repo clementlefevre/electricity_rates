{
 "cells": [
  {
   "cell_type": "code",
   "execution_count": 1,
   "metadata": {
    "collapsed": false
   },
   "outputs": [
    {
     "name": "stderr",
     "output_type": "stream",
     "text": [
      "/home/ramon/anaconda2/lib/python2.7/site-packages/sklearn/cross_validation.py:44: DeprecationWarning: This module was deprecated in version 0.18 in favor of the model_selection module into which all the refactored classes and functions are moved. Also note that the interface of the new CV iterators are different from that of this module. This module will be removed in 0.20.\n",
      "  \"This module will be removed in 0.20.\", DeprecationWarning)\n"
     ]
    }
   ],
   "source": [
    "%matplotlib inline\n",
    "import numpy as np\n",
    "import pandas as pd\n",
    "import matplotlib.pyplot as plt\n",
    "from ggplot import *\n",
    "from sklearn.ensemble import RandomForestRegressor\n",
    "from sklearn.model_selection import train_test_split\n",
    "from sklearn.metrics import r2_score,mean_squared_error\n",
    "from xgboost import XGBRegressor\n",
    "import seaborn as sns"
   ]
  },
  {
   "cell_type": "code",
   "execution_count": null,
   "metadata": {
    "collapsed": true
   },
   "outputs": [],
   "source": [
    "#df = pd.read_stata('data/FinalAdminData.dta',convert_categoricals=False)\n",
    "#df.to_csv('data/dataset1.csv', index=None)"
   ]
  },
  {
   "cell_type": "code",
   "execution_count": null,
   "metadata": {
    "collapsed": true
   },
   "outputs": [],
   "source": [
    "df = pd.read"
   ]
  },
  {
   "cell_type": "code",
   "execution_count": 3,
   "metadata": {
    "collapsed": false
   },
   "outputs": [
    {
     "data": {
      "text/plain": [
       "array([1, 8, 3, 2, 6, 4, 7, 5])"
      ]
     },
     "execution_count": 3,
     "metadata": {},
     "output_type": "execute_result"
    }
   ],
   "source": [
    "df.tarifa.unique()"
   ]
  },
  {
   "cell_type": "code",
   "execution_count": 4,
   "metadata": {
    "collapsed": false
   },
   "outputs": [
    {
     "name": "stdout",
     "output_type": "stream",
     "text": [
      "<class 'pandas.core.frame.DataFrame'>\n",
      "Int64Index: 459564 entries, 0 to 459563\n",
      "Columns: 112 entries, estatal to _merge\n",
      "dtypes: datetime64[ns](1), float32(27), float64(58), int16(3), int32(1), int8(14), object(8)\n",
      "memory usage: 296.3+ MB\n",
      "None\n"
     ]
    },
    {
     "name": "stderr",
     "output_type": "stream",
     "text": [
      "/home/ramon/anaconda2/lib/python2.7/site-packages/pandas/core/frame.py:2440: SettingWithCopyWarning: \n",
      "A value is trying to be set on a copy of a slice from a DataFrame.\n",
      "Try using .loc[row_indexer,col_indexer] = value instead\n",
      "\n",
      "See the caveats in the documentation: http://pandas.pydata.org/pandas-docs/stable/indexing.html#indexing-view-versus-copy\n",
      "  self[k1] = value[k2]\n"
     ]
    },
    {
     "name": "stdout",
     "output_type": "stream",
     "text": [
      "tarifa           0\n",
      "year             0\n",
      "month            0\n",
      "cve_ent          0\n",
      "regiontarif      0\n",
      "appl_season      0\n",
      "b0               0\n",
      "b1               0\n",
      "b2               0\n",
      "b3               0\n",
      "b4               0\n",
      "b5               0\n",
      "p0               0\n",
      "p1               0\n",
      "p2               0\n",
      "p3               0\n",
      "p4               0\n",
      "p5               0\n",
      "pobreza          0\n",
      "pobreza_e      168\n",
      "pobreza_m        0\n",
      "vul_car          0\n",
      "vul_ing          0\n",
      "npnv             0\n",
      "ic_rezedu        0\n",
      "ic_asalud        0\n",
      "ic_segsoc        0\n",
      "ic_cv            0\n",
      "ic_sbv           0\n",
      "ic_ali           0\n",
      "carencias3       0\n",
      "plb              0\n",
      "plb_m          168\n",
      "gini_10          0\n",
      "xb0              0\n",
      "xb1              0\n",
      "xb2              0\n",
      "xb3              0\n",
      "xb4              0\n",
      "xb5              0\n",
      "dtype: int64\n",
      "(459396, 40)\n",
      "[1 8 3 2 6 4 7 5]\n"
     ]
    }
   ],
   "source": [
    "FEATURES = ['tarifa', 'year', 'month', 'cve_ent', 'regiontarif', \\\n",
    "            'appl_season', 'b0', 'b1', 'b2', 'b3', 'b4', 'b5', 'p0',\\\n",
    "            'p1', 'p2', 'p3', 'p4', 'p5', 'pobreza', 'pobreza_e', 'pobreza_m',\\\n",
    "            'vul_car', 'vul_ing', 'npnv', 'ic_rezedu', 'ic_asalud', 'ic_segsoc',\\\n",
    "            'ic_cv', 'ic_sbv', 'ic_ali', 'carencias3', 'plb', 'plb_m', 'gini_10']\n",
    "\n",
    "#FEATURES = ['tarifa', 'year', 'month', 'cve_ent', 'regiontarif',  'pobreza', 'pobreza_e', 'pobreza_m', 'vul_car', 'vul_ing', 'npnv', 'ic_rezedu', 'ic_asalud', 'ic_segsoc', 'ic_cv', 'ic_sbv', 'ic_ali', 'carencias3', 'plb', 'plb_m', 'gini_10']\n",
    "\n",
    "TARGETS = ['xb0',\n",
    " 'xb1',\n",
    " 'xb2',\n",
    " 'xb3',\n",
    " 'xb4',\n",
    " 'xb5']\n",
    "\n",
    "b_i = ['b'+str(i) for i in range(0,6)]\n",
    "p_i = ['p'+str(i) for i in range(0,6)]\n",
    "xb_i = ['xb'+str(i) for i in range(0,6)]\n",
    "\n",
    "df.drop_duplicates(inplace=True)\n",
    "print df.info()\n",
    "\n",
    "df_clean = df[FEATURES+TARGETS]#[(~df.b0.isnull())&(~df.p0.isnull())]\n",
    "\n",
    "df_clean[b_i+p_i+xb_i]= df_clean[b_i+p_i+xb_i].fillna(0)\n",
    "\n",
    "df_clean = df_clean.dropna()\n",
    "print df_clean.shape\n",
    "\n",
    "print df_clean.tarifa.unique()\n"
   ]
  },
  {
   "cell_type": "code",
   "execution_count": null,
   "metadata": {
    "collapsed": true
   },
   "outputs": [],
   "source": [
    "df_"
   ]
  },
  {
   "cell_type": "code",
   "execution_count": 5,
   "metadata": {
    "collapsed": false
   },
   "outputs": [
    {
     "name": "stdout",
     "output_type": "stream",
     "text": [
      "1.0\n",
      "0.0\n"
     ]
    },
    {
     "name": "stderr",
     "output_type": "stream",
     "text": [
      "/home/ramon/anaconda2/lib/python2.7/site-packages/sklearn/metrics/regression.py:471: DeprecationWarning: Default 'multioutput' behavior now corresponds to 'variance_weighted' value which is deprecated since 0.17, it will be changed to 'uniform_average' starting from 0.19.\n",
      "  DeprecationWarning)\n"
     ]
    }
   ],
   "source": [
    "clf = RandomForestRegressor()\n",
    "\n",
    "X = df_clean[FEATURES]\n",
    "y = df_clean[TARGETS]\n",
    "\n",
    "X_train, X_test, y_train, y_test = train_test_split(X, y, test_size=0.33, random_state=42)\n",
    "\n",
    "clf.fit(X_train,y_train)\n",
    "\n",
    "prediction = clf.predict(X_test.values)\n",
    "print r2_score(y_test.values,prediction)\n",
    "print mean_squared_error(y_test.values,prediction)"
   ]
  },
  {
   "cell_type": "code",
   "execution_count": 6,
   "metadata": {
    "collapsed": true
   },
   "outputs": [],
   "source": [
    "df_prediction = pd.DataFrame(prediction,columns=[TARGETS])"
   ]
  },
  {
   "cell_type": "code",
   "execution_count": 7,
   "metadata": {
    "collapsed": false
   },
   "outputs": [
    {
     "data": {
      "text/html": [
       "<div>\n",
       "<table border=\"1\" class=\"dataframe\">\n",
       "  <thead>\n",
       "    <tr style=\"text-align: right;\">\n",
       "      <th></th>\n",
       "      <th>xb0</th>\n",
       "      <th>xb1</th>\n",
       "      <th>xb2</th>\n",
       "      <th>xb3</th>\n",
       "      <th>xb4</th>\n",
       "      <th>xb5</th>\n",
       "    </tr>\n",
       "  </thead>\n",
       "  <tbody>\n",
       "    <tr>\n",
       "      <th>0</th>\n",
       "      <td>103.692307</td>\n",
       "      <td>216.428574</td>\n",
       "      <td>390.230774</td>\n",
       "      <td>765.714294</td>\n",
       "      <td>0.0</td>\n",
       "      <td>0.0</td>\n",
       "    </tr>\n",
       "    <tr>\n",
       "      <th>1</th>\n",
       "      <td>44.000000</td>\n",
       "      <td>107.000000</td>\n",
       "      <td>199.759995</td>\n",
       "      <td>0.000000</td>\n",
       "      <td>0.0</td>\n",
       "      <td>0.0</td>\n",
       "    </tr>\n",
       "    <tr>\n",
       "      <th>2</th>\n",
       "      <td>0.000000</td>\n",
       "      <td>0.000000</td>\n",
       "      <td>0.000000</td>\n",
       "      <td>0.000000</td>\n",
       "      <td>0.0</td>\n",
       "      <td>0.0</td>\n",
       "    </tr>\n",
       "    <tr>\n",
       "      <th>3</th>\n",
       "      <td>0.000000</td>\n",
       "      <td>0.000000</td>\n",
       "      <td>0.000000</td>\n",
       "      <td>0.000000</td>\n",
       "      <td>0.0</td>\n",
       "      <td>0.0</td>\n",
       "    </tr>\n",
       "    <tr>\n",
       "      <th>4</th>\n",
       "      <td>44.000000</td>\n",
       "      <td>107.000000</td>\n",
       "      <td>199.759995</td>\n",
       "      <td>0.000000</td>\n",
       "      <td>0.0</td>\n",
       "      <td>0.0</td>\n",
       "    </tr>\n",
       "  </tbody>\n",
       "</table>\n",
       "</div>"
      ],
      "text/plain": [
       "          xb0         xb1         xb2         xb3  xb4  xb5\n",
       "0  103.692307  216.428574  390.230774  765.714294  0.0  0.0\n",
       "1   44.000000  107.000000  199.759995    0.000000  0.0  0.0\n",
       "2    0.000000    0.000000    0.000000    0.000000  0.0  0.0\n",
       "3    0.000000    0.000000    0.000000    0.000000  0.0  0.0\n",
       "4   44.000000  107.000000  199.759995    0.000000  0.0  0.0"
      ]
     },
     "execution_count": 7,
     "metadata": {},
     "output_type": "execute_result"
    }
   ],
   "source": [
    "df_prediction.head()"
   ]
  },
  {
   "cell_type": "code",
   "execution_count": 8,
   "metadata": {
    "collapsed": false
   },
   "outputs": [
    {
     "data": {
      "text/html": [
       "<div>\n",
       "<table border=\"1\" class=\"dataframe\">\n",
       "  <thead>\n",
       "    <tr style=\"text-align: right;\">\n",
       "      <th></th>\n",
       "      <th>xb0</th>\n",
       "      <th>xb1</th>\n",
       "      <th>xb2</th>\n",
       "      <th>xb3</th>\n",
       "      <th>xb4</th>\n",
       "      <th>xb5</th>\n",
       "    </tr>\n",
       "  </thead>\n",
       "  <tbody>\n",
       "    <tr>\n",
       "      <th>362245</th>\n",
       "      <td>103.692307</td>\n",
       "      <td>216.428574</td>\n",
       "      <td>390.230774</td>\n",
       "      <td>765.714294</td>\n",
       "      <td>0.0</td>\n",
       "      <td>0.0</td>\n",
       "    </tr>\n",
       "    <tr>\n",
       "      <th>17527</th>\n",
       "      <td>44.000000</td>\n",
       "      <td>107.000000</td>\n",
       "      <td>199.759995</td>\n",
       "      <td>0.000000</td>\n",
       "      <td>0.0</td>\n",
       "      <td>0.0</td>\n",
       "    </tr>\n",
       "    <tr>\n",
       "      <th>310929</th>\n",
       "      <td>0.000000</td>\n",
       "      <td>0.000000</td>\n",
       "      <td>0.000000</td>\n",
       "      <td>0.000000</td>\n",
       "      <td>0.0</td>\n",
       "      <td>0.0</td>\n",
       "    </tr>\n",
       "    <tr>\n",
       "      <th>42158</th>\n",
       "      <td>0.000000</td>\n",
       "      <td>0.000000</td>\n",
       "      <td>0.000000</td>\n",
       "      <td>0.000000</td>\n",
       "      <td>0.0</td>\n",
       "      <td>0.0</td>\n",
       "    </tr>\n",
       "    <tr>\n",
       "      <th>33799</th>\n",
       "      <td>44.000000</td>\n",
       "      <td>107.000000</td>\n",
       "      <td>199.759995</td>\n",
       "      <td>0.000000</td>\n",
       "      <td>0.0</td>\n",
       "      <td>0.0</td>\n",
       "    </tr>\n",
       "  </tbody>\n",
       "</table>\n",
       "</div>"
      ],
      "text/plain": [
       "               xb0         xb1         xb2         xb3  xb4  xb5\n",
       "362245  103.692307  216.428574  390.230774  765.714294  0.0  0.0\n",
       "17527    44.000000  107.000000  199.759995    0.000000  0.0  0.0\n",
       "310929    0.000000    0.000000    0.000000    0.000000  0.0  0.0\n",
       "42158     0.000000    0.000000    0.000000    0.000000  0.0  0.0\n",
       "33799    44.000000  107.000000  199.759995    0.000000  0.0  0.0"
      ]
     },
     "execution_count": 8,
     "metadata": {},
     "output_type": "execute_result"
    }
   ],
   "source": [
    "y_test.head()"
   ]
  },
  {
   "cell_type": "code",
   "execution_count": 9,
   "metadata": {
    "collapsed": false
   },
   "outputs": [
    {
     "name": "stdout",
     "output_type": "stream",
     "text": [
      "Feature ranking:\n",
      "1. feature 9 (0.464751)\n",
      "2. feature 14 (0.162883)\n",
      "3. feature 8 (0.099108)\n",
      "4. feature 10 (0.082792)\n",
      "5. feature 7 (0.059574)\n",
      "6. feature 12 (0.041176)\n",
      "7. feature 0 (0.024737)\n",
      "8. feature 13 (0.022346)\n",
      "9. feature 6 (0.019037)\n",
      "10. feature 17 (0.011698)\n",
      "11. feature 15 (0.011583)\n",
      "12. feature 11 (0.000181)\n",
      "13. feature 5 (0.000134)\n",
      "14. feature 4 (0.000000)\n",
      "15. feature 3 (0.000000)\n",
      "16. feature 2 (0.000000)\n",
      "17. feature 1 (0.000000)\n",
      "18. feature 33 (0.000000)\n",
      "19. feature 32 (0.000000)\n",
      "20. feature 18 (0.000000)\n",
      "21. feature 19 (0.000000)\n",
      "22. feature 20 (0.000000)\n",
      "23. feature 21 (0.000000)\n",
      "24. feature 22 (0.000000)\n",
      "25. feature 23 (0.000000)\n",
      "26. feature 24 (0.000000)\n",
      "27. feature 25 (0.000000)\n",
      "28. feature 26 (0.000000)\n",
      "29. feature 27 (0.000000)\n",
      "30. feature 28 (0.000000)\n",
      "31. feature 29 (0.000000)\n",
      "32. feature 30 (0.000000)\n",
      "33. feature 31 (0.000000)\n",
      "34. feature 16 (0.000000)\n"
     ]
    },
    {
     "data": {
      "text/plain": [
       "(-1, 34)"
      ]
     },
     "execution_count": 9,
     "metadata": {},
     "output_type": "execute_result"
    },
    {
     "data": {
      "image/png": "[encoded data removed]",
      "text/plain": [
       "<matplotlib.figure.Figure at 0x7f0863c39dd0>"
      ]
     },
     "metadata": {},
     "output_type": "display_data"
    }
   ],
   "source": [
    "importances = clf.feature_importances_\n",
    "std = np.std([tree.feature_importances_ for tree in clf.estimators_],\n",
    "             axis=0)\n",
    "indices = np.argsort(importances)[::-1]\n",
    "\n",
    "# Print the feature ranking\n",
    "print(\"Feature ranking:\")\n",
    "\n",
    "for f in range(X.shape[1]):\n",
    "    print(\"%d. feature %d (%f)\" % (f + 1, indices[f], importances[indices[f]]))\n",
    "\n",
    "# Plot the feature importances of the forest\n",
    "plt.figure()\n",
    "plt.title(\"Feature importances\")\n",
    "plt.bar(range(X.shape[1]), importances[indices],\n",
    "       color=\"r\", yerr=std[indices], align=\"center\")\n",
    "plt.xticks(range(X.shape[1]), FEATURES)\n",
    "plt.xlim([-1, X.shape[1]])"
   ]
  },
  {
   "cell_type": "code",
   "execution_count": 10,
   "metadata": {
    "collapsed": false
   },
   "outputs": [
    {
     "data": {
      "text/html": [
       "<div>\n",
       "<table border=\"1\" class=\"dataframe\">\n",
       "  <thead>\n",
       "    <tr style=\"text-align: right;\">\n",
       "      <th></th>\n",
       "      <th>xb0</th>\n",
       "      <th>xb1</th>\n",
       "      <th>xb2</th>\n",
       "      <th>xb3</th>\n",
       "      <th>xb4</th>\n",
       "      <th>xb5</th>\n",
       "    </tr>\n",
       "  </thead>\n",
       "  <tbody>\n",
       "    <tr>\n",
       "      <th>tarifa</th>\n",
       "      <td>-0.633602</td>\n",
       "      <td>-0.593008</td>\n",
       "      <td>-0.457665</td>\n",
       "      <td>-0.022506</td>\n",
       "      <td>-0.225708</td>\n",
       "      <td>0.025947</td>\n",
       "    </tr>\n",
       "    <tr>\n",
       "      <th>year</th>\n",
       "      <td>0.031505</td>\n",
       "      <td>0.018482</td>\n",
       "      <td>0.303232</td>\n",
       "      <td>-0.005450</td>\n",
       "      <td>-0.408396</td>\n",
       "      <td>-0.035045</td>\n",
       "    </tr>\n",
       "    <tr>\n",
       "      <th>month</th>\n",
       "      <td>0.012303</td>\n",
       "      <td>0.014883</td>\n",
       "      <td>0.035061</td>\n",
       "      <td>0.014310</td>\n",
       "      <td>-0.027498</td>\n",
       "      <td>0.001389</td>\n",
       "    </tr>\n",
       "    <tr>\n",
       "      <th>cve_ent</th>\n",
       "      <td>0.007939</td>\n",
       "      <td>0.013480</td>\n",
       "      <td>0.010517</td>\n",
       "      <td>0.008319</td>\n",
       "      <td>0.000379</td>\n",
       "      <td>0.006094</td>\n",
       "    </tr>\n",
       "    <tr>\n",
       "      <th>regiontarif</th>\n",
       "      <td>-0.136166</td>\n",
       "      <td>-0.147511</td>\n",
       "      <td>-0.120541</td>\n",
       "      <td>-0.178297</td>\n",
       "      <td>-0.075623</td>\n",
       "      <td>-0.067656</td>\n",
       "    </tr>\n",
       "    <tr>\n",
       "      <th>appl_season</th>\n",
       "      <td>-0.187730</td>\n",
       "      <td>-0.177423</td>\n",
       "      <td>-0.105983</td>\n",
       "      <td>-0.285710</td>\n",
       "      <td>-0.103554</td>\n",
       "      <td>-0.041787</td>\n",
       "    </tr>\n",
       "    <tr>\n",
       "      <th>b0</th>\n",
       "      <td>0.964512</td>\n",
       "      <td>0.975772</td>\n",
       "      <td>0.719258</td>\n",
       "      <td>0.552643</td>\n",
       "      <td>0.430254</td>\n",
       "      <td>0.110246</td>\n",
       "    </tr>\n",
       "    <tr>\n",
       "      <th>b1</th>\n",
       "      <td>0.936334</td>\n",
       "      <td>0.985827</td>\n",
       "      <td>0.755535</td>\n",
       "      <td>0.704489</td>\n",
       "      <td>0.446155</td>\n",
       "      <td>0.217822</td>\n",
       "    </tr>\n",
       "    <tr>\n",
       "      <th>b2</th>\n",
       "      <td>0.358491</td>\n",
       "      <td>0.322576</td>\n",
       "      <td>0.603723</td>\n",
       "      <td>-0.212384</td>\n",
       "      <td>-0.330795</td>\n",
       "      <td>-0.023633</td>\n",
       "    </tr>\n",
       "    <tr>\n",
       "      <th>b3</th>\n",
       "      <td>0.522714</td>\n",
       "      <td>0.505511</td>\n",
       "      <td>0.519523</td>\n",
       "      <td>0.764618</td>\n",
       "      <td>-0.085495</td>\n",
       "      <td>-0.006001</td>\n",
       "    </tr>\n",
       "    <tr>\n",
       "      <th>b4</th>\n",
       "      <td>0.296643</td>\n",
       "      <td>0.298699</td>\n",
       "      <td>-0.234961</td>\n",
       "      <td>0.122369</td>\n",
       "      <td>0.767112</td>\n",
       "      <td>-0.016243</td>\n",
       "    </tr>\n",
       "    <tr>\n",
       "      <th>b5</th>\n",
       "      <td>0.082910</td>\n",
       "      <td>0.090614</td>\n",
       "      <td>0.049246</td>\n",
       "      <td>0.022209</td>\n",
       "      <td>0.147004</td>\n",
       "      <td>0.518848</td>\n",
       "    </tr>\n",
       "    <tr>\n",
       "      <th>p0</th>\n",
       "      <td>-0.848528</td>\n",
       "      <td>-0.809772</td>\n",
       "      <td>-0.617257</td>\n",
       "      <td>-0.217959</td>\n",
       "      <td>-0.334994</td>\n",
       "      <td>-0.026942</td>\n",
       "    </tr>\n",
       "    <tr>\n",
       "      <th>p1</th>\n",
       "      <td>0.786790</td>\n",
       "      <td>0.743828</td>\n",
       "      <td>0.620880</td>\n",
       "      <td>0.142597</td>\n",
       "      <td>0.234679</td>\n",
       "      <td>0.009226</td>\n",
       "    </tr>\n",
       "    <tr>\n",
       "      <th>p2</th>\n",
       "      <td>0.551258</td>\n",
       "      <td>0.512242</td>\n",
       "      <td>0.703771</td>\n",
       "      <td>-0.059928</td>\n",
       "      <td>-0.192712</td>\n",
       "      <td>-0.007281</td>\n",
       "    </tr>\n",
       "    <tr>\n",
       "      <th>p3</th>\n",
       "      <td>0.620200</td>\n",
       "      <td>0.605137</td>\n",
       "      <td>0.262156</td>\n",
       "      <td>0.694595</td>\n",
       "      <td>0.439018</td>\n",
       "      <td>0.014094</td>\n",
       "    </tr>\n",
       "    <tr>\n",
       "      <th>p4</th>\n",
       "      <td>0.306008</td>\n",
       "      <td>0.305298</td>\n",
       "      <td>-0.223885</td>\n",
       "      <td>0.120846</td>\n",
       "      <td>0.768679</td>\n",
       "      <td>0.025964</td>\n",
       "    </tr>\n",
       "    <tr>\n",
       "      <th>p5</th>\n",
       "      <td>0.083447</td>\n",
       "      <td>0.091417</td>\n",
       "      <td>0.049142</td>\n",
       "      <td>0.022482</td>\n",
       "      <td>0.148426</td>\n",
       "      <td>0.523137</td>\n",
       "    </tr>\n",
       "    <tr>\n",
       "      <th>pobreza</th>\n",
       "      <td>-0.038664</td>\n",
       "      <td>-0.041314</td>\n",
       "      <td>-0.038930</td>\n",
       "      <td>-0.094379</td>\n",
       "      <td>-0.019118</td>\n",
       "      <td>-0.029517</td>\n",
       "    </tr>\n",
       "    <tr>\n",
       "      <th>pobreza_e</th>\n",
       "      <td>0.021526</td>\n",
       "      <td>0.018388</td>\n",
       "      <td>0.009092</td>\n",
       "      <td>-0.054814</td>\n",
       "      <td>0.003739</td>\n",
       "      <td>-0.017747</td>\n",
       "    </tr>\n",
       "    <tr>\n",
       "      <th>pobreza_m</th>\n",
       "      <td>-0.115738</td>\n",
       "      <td>-0.114855</td>\n",
       "      <td>-0.092490</td>\n",
       "      <td>-0.077354</td>\n",
       "      <td>-0.044032</td>\n",
       "      <td>-0.023038</td>\n",
       "    </tr>\n",
       "    <tr>\n",
       "      <th>vul_car</th>\n",
       "      <td>0.024355</td>\n",
       "      <td>0.028912</td>\n",
       "      <td>0.025865</td>\n",
       "      <td>0.077436</td>\n",
       "      <td>0.018824</td>\n",
       "      <td>0.027705</td>\n",
       "    </tr>\n",
       "    <tr>\n",
       "      <th>vul_ing</th>\n",
       "      <td>0.020473</td>\n",
       "      <td>0.020777</td>\n",
       "      <td>0.020567</td>\n",
       "      <td>0.064095</td>\n",
       "      <td>0.007012</td>\n",
       "      <td>0.014217</td>\n",
       "    </tr>\n",
       "    <tr>\n",
       "      <th>npnv</th>\n",
       "      <td>0.046602</td>\n",
       "      <td>0.046839</td>\n",
       "      <td>0.045375</td>\n",
       "      <td>0.087468</td>\n",
       "      <td>0.016296</td>\n",
       "      <td>0.025473</td>\n",
       "    </tr>\n",
       "    <tr>\n",
       "      <th>ic_rezedu</th>\n",
       "      <td>-0.007737</td>\n",
       "      <td>-0.010451</td>\n",
       "      <td>-0.014892</td>\n",
       "      <td>-0.068001</td>\n",
       "      <td>-0.004188</td>\n",
       "      <td>-0.019438</td>\n",
       "    </tr>\n",
       "    <tr>\n",
       "      <th>ic_asalud</th>\n",
       "      <td>-0.017124</td>\n",
       "      <td>-0.015223</td>\n",
       "      <td>-0.008641</td>\n",
       "      <td>-0.029734</td>\n",
       "      <td>-0.007351</td>\n",
       "      <td>-0.000166</td>\n",
       "    </tr>\n",
       "    <tr>\n",
       "      <th>ic_segsoc</th>\n",
       "      <td>-0.061032</td>\n",
       "      <td>-0.061376</td>\n",
       "      <td>-0.054707</td>\n",
       "      <td>-0.097313</td>\n",
       "      <td>-0.021557</td>\n",
       "      <td>-0.025551</td>\n",
       "    </tr>\n",
       "    <tr>\n",
       "      <th>ic_cv</th>\n",
       "      <td>0.053845</td>\n",
       "      <td>0.049360</td>\n",
       "      <td>0.033653</td>\n",
       "      <td>-0.027261</td>\n",
       "      <td>0.014865</td>\n",
       "      <td>-0.013174</td>\n",
       "    </tr>\n",
       "    <tr>\n",
       "      <th>ic_sbv</th>\n",
       "      <td>0.035630</td>\n",
       "      <td>0.032229</td>\n",
       "      <td>0.020748</td>\n",
       "      <td>-0.041102</td>\n",
       "      <td>0.007104</td>\n",
       "      <td>-0.015562</td>\n",
       "    </tr>\n",
       "    <tr>\n",
       "      <th>ic_ali</th>\n",
       "      <td>0.006221</td>\n",
       "      <td>0.009765</td>\n",
       "      <td>0.007333</td>\n",
       "      <td>-0.018658</td>\n",
       "      <td>0.001107</td>\n",
       "      <td>0.002004</td>\n",
       "    </tr>\n",
       "    <tr>\n",
       "      <th>carencias3</th>\n",
       "      <td>0.021184</td>\n",
       "      <td>0.018547</td>\n",
       "      <td>0.010932</td>\n",
       "      <td>-0.053626</td>\n",
       "      <td>0.002670</td>\n",
       "      <td>-0.014910</td>\n",
       "    </tr>\n",
       "    <tr>\n",
       "      <th>plb</th>\n",
       "      <td>-0.039833</td>\n",
       "      <td>-0.042783</td>\n",
       "      <td>-0.040117</td>\n",
       "      <td>-0.094421</td>\n",
       "      <td>-0.020316</td>\n",
       "      <td>-0.030691</td>\n",
       "    </tr>\n",
       "    <tr>\n",
       "      <th>plb_m</th>\n",
       "      <td>-0.004810</td>\n",
       "      <td>-0.007525</td>\n",
       "      <td>-0.012717</td>\n",
       "      <td>-0.071026</td>\n",
       "      <td>-0.004441</td>\n",
       "      <td>-0.023206</td>\n",
       "    </tr>\n",
       "    <tr>\n",
       "      <th>gini_10</th>\n",
       "      <td>-0.008436</td>\n",
       "      <td>-0.008719</td>\n",
       "      <td>-0.007671</td>\n",
       "      <td>0.038286</td>\n",
       "      <td>0.002821</td>\n",
       "      <td>0.010227</td>\n",
       "    </tr>\n",
       "    <tr>\n",
       "      <th>xb0</th>\n",
       "      <td>1.000000</td>\n",
       "      <td>0.973914</td>\n",
       "      <td>0.765960</td>\n",
       "      <td>0.585047</td>\n",
       "      <td>0.416026</td>\n",
       "      <td>0.131059</td>\n",
       "    </tr>\n",
       "    <tr>\n",
       "      <th>xb1</th>\n",
       "      <td>0.973914</td>\n",
       "      <td>1.000000</td>\n",
       "      <td>0.771792</td>\n",
       "      <td>0.647214</td>\n",
       "      <td>0.439278</td>\n",
       "      <td>0.180695</td>\n",
       "    </tr>\n",
       "    <tr>\n",
       "      <th>xb2</th>\n",
       "      <td>0.765960</td>\n",
       "      <td>0.771792</td>\n",
       "      <td>1.000000</td>\n",
       "      <td>0.634986</td>\n",
       "      <td>-0.141099</td>\n",
       "      <td>0.021833</td>\n",
       "    </tr>\n",
       "    <tr>\n",
       "      <th>xb3</th>\n",
       "      <td>0.585047</td>\n",
       "      <td>0.647214</td>\n",
       "      <td>0.634986</td>\n",
       "      <td>1.000000</td>\n",
       "      <td>0.163258</td>\n",
       "      <td>0.055645</td>\n",
       "    </tr>\n",
       "    <tr>\n",
       "      <th>xb4</th>\n",
       "      <td>0.416026</td>\n",
       "      <td>0.439278</td>\n",
       "      <td>-0.141099</td>\n",
       "      <td>0.163258</td>\n",
       "      <td>1.000000</td>\n",
       "      <td>0.311703</td>\n",
       "    </tr>\n",
       "    <tr>\n",
       "      <th>xb5</th>\n",
       "      <td>0.131059</td>\n",
       "      <td>0.180695</td>\n",
       "      <td>0.021833</td>\n",
       "      <td>0.055645</td>\n",
       "      <td>0.311703</td>\n",
       "      <td>1.000000</td>\n",
       "    </tr>\n",
       "  </tbody>\n",
       "</table>\n",
       "</div>"
      ],
      "text/plain": [
       "                  xb0       xb1       xb2       xb3       xb4       xb5\n",
       "tarifa      -0.633602 -0.593008 -0.457665 -0.022506 -0.225708  0.025947\n",
       "year         0.031505  0.018482  0.303232 -0.005450 -0.408396 -0.035045\n",
       "month        0.012303  0.014883  0.035061  0.014310 -0.027498  0.001389\n",
       "cve_ent      0.007939  0.013480  0.010517  0.008319  0.000379  0.006094\n",
       "regiontarif -0.136166 -0.147511 -0.120541 -0.178297 -0.075623 -0.067656\n",
       "appl_season -0.187730 -0.177423 -0.105983 -0.285710 -0.103554 -0.041787\n",
       "b0           0.964512  0.975772  0.719258  0.552643  0.430254  0.110246\n",
       "b1           0.936334  0.985827  0.755535  0.704489  0.446155  0.217822\n",
       "b2           0.358491  0.322576  0.603723 -0.212384 -0.330795 -0.023633\n",
       "b3           0.522714  0.505511  0.519523  0.764618 -0.085495 -0.006001\n",
       "b4           0.296643  0.298699 -0.234961  0.122369  0.767112 -0.016243\n",
       "b5           0.082910  0.090614  0.049246  0.022209  0.147004  0.518848\n",
       "p0          -0.848528 -0.809772 -0.617257 -0.217959 -0.334994 -0.026942\n",
       "p1           0.786790  0.743828  0.620880  0.142597  0.234679  0.009226\n",
       "p2           0.551258  0.512242  0.703771 -0.059928 -0.192712 -0.007281\n",
       "p3           0.620200  0.605137  0.262156  0.694595  0.439018  0.014094\n",
       "p4           0.306008  0.305298 -0.223885  0.120846  0.768679  0.025964\n",
       "p5           0.083447  0.091417  0.049142  0.022482  0.148426  0.523137\n",
       "pobreza     -0.038664 -0.041314 -0.038930 -0.094379 -0.019118 -0.029517\n",
       "pobreza_e    0.021526  0.018388  0.009092 -0.054814  0.003739 -0.017747\n",
       "pobreza_m   -0.115738 -0.114855 -0.092490 -0.077354 -0.044032 -0.023038\n",
       "vul_car      0.024355  0.028912  0.025865  0.077436  0.018824  0.027705\n",
       "vul_ing      0.020473  0.020777  0.020567  0.064095  0.007012  0.014217\n",
       "npnv         0.046602  0.046839  0.045375  0.087468  0.016296  0.025473\n",
       "ic_rezedu   -0.007737 -0.010451 -0.014892 -0.068001 -0.004188 -0.019438\n",
       "ic_asalud   -0.017124 -0.015223 -0.008641 -0.029734 -0.007351 -0.000166\n",
       "ic_segsoc   -0.061032 -0.061376 -0.054707 -0.097313 -0.021557 -0.025551\n",
       "ic_cv        0.053845  0.049360  0.033653 -0.027261  0.014865 -0.013174\n",
       "ic_sbv       0.035630  0.032229  0.020748 -0.041102  0.007104 -0.015562\n",
       "ic_ali       0.006221  0.009765  0.007333 -0.018658  0.001107  0.002004\n",
       "carencias3   0.021184  0.018547  0.010932 -0.053626  0.002670 -0.014910\n",
       "plb         -0.039833 -0.042783 -0.040117 -0.094421 -0.020316 -0.030691\n",
       "plb_m       -0.004810 -0.007525 -0.012717 -0.071026 -0.004441 -0.023206\n",
       "gini_10     -0.008436 -0.008719 -0.007671  0.038286  0.002821  0.010227\n",
       "xb0          1.000000  0.973914  0.765960  0.585047  0.416026  0.131059\n",
       "xb1          0.973914  1.000000  0.771792  0.647214  0.439278  0.180695\n",
       "xb2          0.765960  0.771792  1.000000  0.634986 -0.141099  0.021833\n",
       "xb3          0.585047  0.647214  0.634986  1.000000  0.163258  0.055645\n",
       "xb4          0.416026  0.439278 -0.141099  0.163258  1.000000  0.311703\n",
       "xb5          0.131059  0.180695  0.021833  0.055645  0.311703  1.000000"
      ]
     },
     "execution_count": 10,
     "metadata": {},
     "output_type": "execute_result"
    }
   ],
   "source": [
    "df_clean.corr()[TARGETS]"
   ]
  },
  {
   "cell_type": "code",
   "execution_count": 11,
   "metadata": {
    "collapsed": false
   },
   "outputs": [
    {
     "data": {
      "text/plain": [
       "<matplotlib.text.Text at 0x7f08643d5490>"
      ]
     },
     "execution_count": 11,
     "metadata": {},
     "output_type": "execute_result"
    },
    {
     "data": {
      "image/png": "[encoded data removed]",
      "text/plain": [
       "<matplotlib.figure.Figure at 0x7f0863c39850>"
      ]
     },
     "metadata": {},
     "output_type": "display_data"
    }
   ],
   "source": [
    "# Compute the correlation matrix\n",
    "corr = df_clean.corr()\n",
    "\n",
    "# Generate a mask for the upper triangle\n",
    "mask = np.zeros_like(corr, dtype=np.bool)\n",
    "mask[np.triu_indices_from(mask)] = True\n",
    "\n",
    "# Set up the matplotlib figure\n",
    "f, ax = plt.subplots(figsize=(11, 9))\n",
    "\n",
    "# Generate a custom diverging colormap\n",
    "cmap = sns.diverging_palette(220, 10, as_cmap=True)\n",
    "\n",
    "# Draw the heatmap with the mask and correct aspect ratio\n",
    "sns.heatmap(corr, mask=mask, cmap=cmap, vmax=.3, center=0,\n",
    "            square=True, linewidths=.5, cbar_kws={\"shrink\": .5}).set_title(\"Correlation Matrix\")"
   ]
  },
  {
   "cell_type": "code",
   "execution_count": null,
   "metadata": {
    "collapsed": false
   },
   "outputs": [
    {
     "data": {
      "image/png": "[encoded data removed]",
      "text/plain": [
       "<matplotlib.figure.Figure at 0x7f086447d3d0>"
      ]
     },
     "metadata": {},
     "output_type": "display_data"
    },
    {
     "data": {
      "text/plain": [
       "<ggplot: (8729625639333)>"
      ]
     },
     "execution_count": 12,
     "metadata": {},
     "output_type": "execute_result"
    }
   ],
   "source": [
    "ggplot(df_clean,aes(x='b0',y='xb0'))+ geom_jitter(position = 'jitter', stat = 'identity')\n",
    "ggplot(df_clean,aes(x='b1',y='xb1'))+ geom_jitter(position = 'jitter', stat = 'identity')"
   ]
  },
  {
   "cell_type": "code",
   "execution_count": null,
   "metadata": {
    "collapsed": true
   },
   "outputs": [],
   "source": []
  },
  {
   "cell_type": "code",
   "execution_count": null,
   "metadata": {
    "collapsed": true
   },
   "outputs": [],
   "source": [
    "sns.pairplot(df_clean[b_i+p_i+xb_i+['tarifa']], hue=\"tarifa\")"
   ]
  },
  {
   "cell_type": "code",
   "execution_count": null,
   "metadata": {
    "collapsed": true
   },
   "outputs": [],
   "source": []
  }
 ],
 "metadata": {
  "anaconda-cloud": {},
  "kernelspec": {
   "display_name": "Python 2",
   "language": "python",
   "name": "python2"
  },
  "language_info": {
   "codemirror_mode": {
    "name": "ipython",
    "version": 2
   },
   "file_extension": ".py",
   "mimetype": "text/x-python",
   "name": "python",
   "nbconvert_exporter": "python",
   "pygments_lexer": "ipython2",
   "version": "2.7.12"
  }
 },
 "nbformat": 4,
 "nbformat_minor": 2
}
